{
 "cells": [
  {
   "cell_type": "code",
   "execution_count": 1,
   "metadata": {},
   "outputs": [],
   "source": [
    "import numpy as np\n",
    "import pandas as pd\n",
    "import geopandas as gp\n",
    "from shapely.geometry import Polygon, LineString, Point\n",
    "import matplotlib.pyplot as plt\n",
    "import util\n",
    "from scipy import stats\n",
    "import seaborn as sns"
   ]
  },
  {
   "cell_type": "markdown",
   "metadata": {},
   "source": [
    "# 1.0 Preprocessing"
   ]
  },
  {
   "cell_type": "code",
   "execution_count": 122,
   "metadata": {},
   "outputs": [
    {
     "name": "stdout",
     "output_type": "stream",
     "text": [
      "Building WATERWORKS OFFICE & MARINA 2353/ 4088803975 doesn't have a district POINT (-122.33895 47.63575) \n",
      "\t Found district 7 for WATERWORKS OFFICE & MARINA\n",
      "Building NAUTICAL LANDING 2381/ 4088804350 doesn't have a district POINT (-122.34219 47.64306) \n",
      "\t Found district 7 for NAUTICAL LANDING\n",
      "Building UNION HARBOR CONDOMINIUM 2540/ 8807200000 doesn't have a district POINT (-122.33003 47.6401) \n",
      "\t Found district 4 for UNION HARBOR CONDOMINIUM\n",
      "Building THE PIER AT LESCHI 2997/ 6780900000 doesn't have a district POINT (-122.28563 47.59926) \n",
      "\t Found district 3 for THE PIER AT LESCHI\n",
      "Building THE LAKESHORE 3046/ 1180001715 doesn't have a district POINT EMPTY \n",
      "Building EDUCARE 3218/ 2895800030 doesn't have a district POINT EMPTY \n",
      "Building WATERWORKS OFFICE & MARINA 2373/ 4088803975 doesn't have a district POINT (-122.33895 47.63575) \n",
      "\t Found district 7 for WATERWORKS OFFICE & MARINA\n",
      "Building NAUTICAL LANDING 2402/ 4088804350 doesn't have a district POINT (-122.34219 47.64306) \n",
      "\t Found district 7 for NAUTICAL LANDING\n",
      "Building UNION HARBOR CONDOMINIUM 2561/ 8807200000 doesn't have a district POINT (-122.33003 47.6401) \n",
      "\t Found district 4 for UNION HARBOR CONDOMINIUM\n",
      "Building PIER AT LESCHI THE 3026/ 6780900000 doesn't have a district POINT (-122.28563 47.59926) \n",
      "\t Found district 3 for PIER AT LESCHI THE\n",
      "Building THE LAKESHORE 3075/ 1180001715 doesn't have a district POINT EMPTY \n",
      "Building EDUCARE 3247/ 2895800030 doesn't have a district POINT EMPTY \n"
     ]
    }
   ],
   "source": [
    "df_districts = gp.read_file(\"../data/Council_Districts.geojson\")\n",
    "df20 = pd.read_csv('../data/2020_Building_Energy_Benchmarking.csv')\n",
    "df20 = gp.GeoDataFrame(df20, geometry=gp.points_from_xy(df20.Longitude, df20.Latitude))\n",
    "util.clean_districts(df20, df_districts)\n",
    "\n",
    "df19 = pd.read_csv('../data/2019_Building_Energy_Benchmarking.csv')\n",
    "df19 = gp.GeoDataFrame(df19, geometry=gp.points_from_xy(df19.Longitude, df19.Latitude))\n",
    "util.clean_districts(df19, df_districts)"
   ]
  },
  {
   "cell_type": "code",
   "execution_count": 52,
   "metadata": {},
   "outputs": [],
   "source": [
    "df_amazon = pd.read_csv(\"Amazon\\\\amazon_non_grocery.csv\")\n",
    "amazon_ids = df_amazon['OSEBuildingID']"
   ]
  },
  {
   "cell_type": "code",
   "execution_count": 20,
   "metadata": {},
   "outputs": [
    {
     "name": "stdout",
     "output_type": "stream",
     "text": [
      "31 31\n"
     ]
    }
   ],
   "source": [
    "amazon_19 = df19[df19['OSEBuildingID'].isin(amazon_ids)]\n",
    "amazon_20 = df20[df20['OSEBuildingID'].isin(amazon_19['OSEBuildingID'])]\n",
    "print(len(amazon_19), len(amazon_20))"
   ]
  },
  {
   "cell_type": "markdown",
   "metadata": {},
   "source": [
    "## Amazon and District 1"
   ]
  },
  {
   "attachments": {},
   "cell_type": "markdown",
   "metadata": {},
   "source": [
    "While we don't have enough data to make any claims of statistical significance for Amazon, we do see a 12% decrease in total emissions for buildings owned by or affiliated with the company. \n",
    "\n",
    "For all of District 1, however, we can make some more interesting claims. There's a similar 12% decrease in total emissions from 2019 to 2020. Here, we have enough samples to call this decrease statistically significant!"
   ]
  },
  {
   "cell_type": "code",
   "execution_count": 117,
   "metadata": {},
   "outputs": [
    {
     "name": "stdout",
     "output_type": "stream",
     "text": [
      "0.11951458327151865\n",
      "31\n"
     ]
    }
   ],
   "source": [
    "# % change = change/original\n",
    "change = amazon_19['TotalGHGEmissions'].sum()-amazon_20['TotalGHGEmissions'].sum()\n",
    "original = amazon_19['TotalGHGEmissions'].sum()\n",
    "print(change/original)\n",
    "print(len(amazon_19))"
   ]
  },
  {
   "cell_type": "code",
   "execution_count": 29,
   "metadata": {},
   "outputs": [
    {
     "name": "stdout",
     "output_type": "stream",
     "text": [
      "0.1235277163054048\n"
     ]
    }
   ],
   "source": [
    "change_d1 = df19[df19['CouncilDistrictCode']==1]['TotalGHGEmissions'].sum()-df20[df20['CouncilDistrictCode']==1]['TotalGHGEmissions'].sum()\n",
    "original_d1 = df19[df19['CouncilDistrictCode']==1]['TotalGHGEmissions'].sum()\n",
    "print(change_d1/original_d1)"
   ]
  },
  {
   "cell_type": "code",
   "execution_count": 118,
   "metadata": {},
   "outputs": [
    {
     "data": {
      "text/plain": [
       "(array([ 1.,  2.,  1.,  3.,  3., 21.,  4.,  0.,  0.,  2.]),\n",
       " array([-310.3 , -252.32, -194.34, -136.36,  -78.38,  -20.4 ,   37.58,\n",
       "          95.56,  153.54,  211.52,  269.5 ]),\n",
       " <BarContainer object of 10 artists>)"
      ]
     },
     "execution_count": 118,
     "metadata": {},
     "output_type": "execute_result"
    },
    {
     "data": {
      "image/png": "[encoded data removed]",
      "text/plain": [
       "<Figure size 640x480 with 1 Axes>"
      ]
     },
     "metadata": {},
     "output_type": "display_data"
    }
   ],
   "source": [
    "df19_d1 = df19[df19['CouncilDistrictCode']==1]\n",
    "df20_d1 = df20[df20['CouncilDistrictCode']==1]\n",
    "df20_d1 = df20_d1[df20_d1['OSEBuildingID'].isin(df19_d1['OSEBuildingID'])]\n",
    "df19_d1 = df19_d1[df19_d1['OSEBuildingID'].isin(df20_d1['OSEBuildingID'])]\n",
    "plt.hist(df19_d1['TotalGHGEmissions']-df20_d1['TotalGHGEmissions'])"
   ]
  },
  {
   "cell_type": "code",
   "execution_count": 119,
   "metadata": {},
   "outputs": [
    {
     "data": {
      "image/png": "[encoded data removed]",
      "text/plain": [
       "<Figure size 640x480 with 1 Axes>"
      ]
     },
     "metadata": {},
     "output_type": "display_data"
    }
   ],
   "source": [
    "chart = sns.boxplot(data=[df19_d1[\"TotalGHGEmissions\"]-df20_d1[\"TotalGHGEmissions\"]])"
   ]
  },
  {
   "cell_type": "code",
   "execution_count": 94,
   "metadata": {},
   "outputs": [
    {
     "data": {
      "text/plain": [
       "count     293.000000\n",
       "mean       69.534471\n",
       "std       172.242814\n",
       "min         0.000000\n",
       "25%         5.700000\n",
       "50%        23.200000\n",
       "75%        64.300000\n",
       "max      2030.100000\n",
       "Name: TotalGHGEmissions, dtype: float64"
      ]
     },
     "execution_count": 94,
     "metadata": {},
     "output_type": "execute_result"
    }
   ],
   "source": [
    "df19_d1['TotalGHGEmissions'].describe()"
   ]
  },
  {
   "cell_type": "code",
   "execution_count": 95,
   "metadata": {},
   "outputs": [
    {
     "data": {
      "text/plain": [
       "count     291.000000\n",
       "mean       59.987285\n",
       "std       135.220496\n",
       "min         0.000000\n",
       "25%         5.300000\n",
       "50%        21.400000\n",
       "75%        61.200000\n",
       "max      1760.600000\n",
       "Name: TotalGHGEmissions, dtype: float64"
      ]
     },
     "execution_count": 95,
     "metadata": {},
     "output_type": "execute_result"
    }
   ],
   "source": [
    "df20_d1['TotalGHGEmissions'].describe()"
   ]
  },
  {
   "attachments": {},
   "cell_type": "markdown",
   "metadata": {},
   "source": [
    "### paired t-test: District 1\n",
    "h0: d = 0, where d = the difference in distribution between (2020-2019) ie. there's no difference in the distributions from 2020 to 2019. \n",
    "\n",
    "h1: d < 0, ie. the distribution of total emissions in 2020 is less than 2019. \n",
    "\n",
    "reject the null if p < alpha = 0.05. \n",
    "\n",
    "n = 293 > 30 so don't need to worry about the normality assumption. \n",
    "\n",
    "p = 0.02 < 0.05 so we can reject h0 that d = 0, ie. that there's no difference between the distribution of GHG emissions between the years 2020 and 2019."
   ]
  },
  {
   "cell_type": "code",
   "execution_count": 92,
   "metadata": {},
   "outputs": [
    {
     "data": {
      "text/plain": [
       "Ttest_relResult(statistic=-2.0349211401544527, pvalue=0.02138406086764513)"
      ]
     },
     "execution_count": 92,
     "metadata": {},
     "output_type": "execute_result"
    }
   ],
   "source": [
    "stats.ttest_rel(a=df20_d1['TotalGHGEmissions'], b=df19_d1['TotalGHGEmissions'], nan_policy='omit', alternative='less')"
   ]
  },
  {
   "attachments": {},
   "cell_type": "markdown",
   "metadata": {},
   "source": [
    "# City-Wide Pandemic Changes"
   ]
  },
  {
   "attachments": {},
   "cell_type": "markdown",
   "metadata": {},
   "source": [
    "Okay, but what about the city as a whole? If emissions went up at home then it doesn't make too much of a difference because those emissions would have gone from the offices to the homes, along with the workers.  \n",
    "\n",
    "There is a 47% (!!) decrease in total GHGE emissions from 2019-2020 during the pandemic. Can't claim statistical significance this time, though, because of a much larger sample size (maybe?)"
   ]
  },
  {
   "cell_type": "code",
   "execution_count": 146,
   "metadata": {},
   "outputs": [
    {
     "name": "stdout",
     "output_type": "stream",
     "text": [
      "0.468140967656406\n"
     ]
    }
   ],
   "source": [
    "df20 = df20[df20['OSEBuildingID'].isin(df19['OSEBuildingID'])]\n",
    "df19 = df19[df19['OSEBuildingID'].isin(df20['OSEBuildingID'])]\n",
    "\n",
    "change = df19['TotalGHGEmissions'].sum()-df20['TotalGHGEmissions'].sum()\n",
    "original = df19['TotalGHGEmissions'].sum()\n",
    "print(change/original)"
   ]
  },
  {
   "cell_type": "code",
   "execution_count": 164,
   "metadata": {},
   "outputs": [
    {
     "name": "stdout",
     "output_type": "stream",
     "text": [
      "0         SiteEnergyUse(kBtu)\n",
      "1         SiteEnergyUse(kBtu)\n",
      "2         SiteEnergyUse(kBtu)\n",
      "3         SiteEnergyUse(kBtu)\n",
      "4         SiteEnergyUse(kBtu)\n",
      "                ...          \n",
      "3576         PropertyGFATotal\n",
      "3577      SiteEnergyUse(kBtu)\n",
      "3578    SiteEnergyUseWN(kBtu)\n",
      "3579    SiteEnergyUseWN(kBtu)\n",
      "3580      SiteEnergyUse(kBtu)\n",
      "Length: 3530, dtype: object\n",
      "\n",
      "\n",
      " OSEBuildingID                                              763\n",
      "DataYear                                                  2019\n",
      "BuildingName                                     MARKET SQUARE\n",
      "BuildingType                                    NonResidential\n",
      "TaxParcelIdentificationNumber                       7666202405\n",
      "Address                                       1415 WESTERN AVE\n",
      "City                                                   SEATTLE\n",
      "State                                                       WA\n",
      "ZipCode                                                98101.0\n",
      "Latitude                                              47.60765\n",
      "Longitude                                           -122.34097\n",
      "Neighborhood                                          DOWNTOWN\n",
      "CouncilDistrictCode                                        7.0\n",
      "YearBuilt                                                 1909\n",
      "NumberofFloors                                               6\n",
      "PropertyGFATotal                                         51218\n",
      "PropertyGFABuilding(s)                                   51218\n",
      "PropertyGFAParking                                           0\n",
      "PrimaryPropertyType                                     Office\n",
      "ENERGYSTARScore                                           83.0\n",
      "SiteEUIWN(kBtu/sf)                                        31.5\n",
      "SiteEUI(kBtu/sf)                                          31.5\n",
      "SiteEnergyUse(kBtu)                                  1635325.0\n",
      "SiteEnergyUseWN(kBtu)                                1635325.0\n",
      "SourceEUIWN(kBtu/sf)                                      87.9\n",
      "SourceEUI(kBtu/sf)                                        87.9\n",
      "LargestPropertyUseType                                  Office\n",
      "LargestPropertyUseTypeGFA                              44913.0\n",
      "SecondLargestPropertyUseType                        Restaurant\n",
      "SecondLargestPropertyUseTypeGFA                         7044.0\n",
      "ThirdLargestPropertyUseType                                NaN\n",
      "ThirdLargestPropertyUseTypeGFA                             NaN\n",
      "Electricity(kWh)                                        477307\n",
      "SteamUse(kBtu)                                               0\n",
      "NaturalGas(therms)                                          68\n",
      "EPAPropertyType                                         Office\n",
      "ComplianceStatus                                     Compliant\n",
      "ComplianceIssue                                       No Issue\n",
      "Electricity(kBtu)                                      1628572\n",
      "NaturalGas(kBtu)                                          6753\n",
      "TotalGHGEmissions                                         10.4\n",
      "GHGEmissionsIntensity                                      0.2\n",
      "geometry                           POINT (-122.34097 47.60765)\n",
      "Name: 555, dtype: object\n"
     ]
    }
   ],
   "source": [
    "print(df19.idxmax(axis='columns', numeric_only=True))\n",
    "print(\"\\n\\n\",df19.iloc[547])"
   ]
  },
  {
   "cell_type": "code",
   "execution_count": 150,
   "metadata": {},
   "outputs": [
    {
     "data": {
      "image/png": "[encoded data removed]",
      "text/plain": [
       "<Figure size 640x480 with 1 Axes>"
      ]
     },
     "metadata": {},
     "output_type": "display_data"
    }
   ],
   "source": [
    "chart = sns.boxplot(data=df19['TotalGHGEmissions']-df20['TotalGHGEmissions'])"
   ]
  },
  {
   "cell_type": "code",
   "execution_count": 147,
   "metadata": {},
   "outputs": [
    {
     "data": {
      "image/png": "[encoded data removed]",
      "text/plain": [
       "<Figure size 640x480 with 1 Axes>"
      ]
     },
     "metadata": {},
     "output_type": "display_data"
    }
   ],
   "source": [
    "diff = df19[\"TotalGHGEmissions\"]-df20[\"TotalGHGEmissions\"]\n",
    "diff = diff.dropna()\n",
    "diff = list(filter(lambda x: x < diff.quantile(0.75) and x > diff.quantile(0.25), diff))\n",
    "chart = sns.boxplot(data=diff)"
   ]
  },
  {
   "cell_type": "code",
   "execution_count": 145,
   "metadata": {},
   "outputs": [
    {
     "data": {
      "image/png": "[encoded data removed]",
      "text/plain": [
       "<Figure size 640x480 with 1 Axes>"
      ]
     },
     "metadata": {},
     "output_type": "display_data"
    }
   ],
   "source": [
    "plt.hist(diff)\n",
    "plt.show()"
   ]
  },
  {
   "cell_type": "code",
   "execution_count": 148,
   "metadata": {},
   "outputs": [],
   "source": [
    "# Removing the outer quantiles/ outliers makes for a pretty normal distribution. So who was the massive drop earlier? "
   ]
  },
  {
   "attachments": {},
   "cell_type": "markdown",
   "metadata": {},
   "source": [
    "## paired t-test: City-Wide\n",
    "h0: d = 0, where d = the difference in distribution between (2020-2019) ie. there's no difference in the distributions from 2020 to 2019. \n",
    "\n",
    "h1: d < 0, ie. the distribution of total emissions in 2020 is less than 2019. \n",
    "\n",
    "reject the null if p < alpha = 0.05. \n",
    "\n",
    "n = 293 > 30 so don't need to worry about the normality assumption. \n",
    "\n",
    "p = 0.14 > 0.05 so we CANNOT reject h0 that d = 0, ie. there's no difference in the distribution of GHGE emissions between 2019 and 2020. "
   ]
  },
  {
   "cell_type": "code",
   "execution_count": 125,
   "metadata": {},
   "outputs": [
    {
     "data": {
      "text/plain": [
       "Ttest_relResult(statistic=-1.0858298683348566, pvalue=0.13881454569112878)"
      ]
     },
     "execution_count": 125,
     "metadata": {},
     "output_type": "execute_result"
    }
   ],
   "source": [
    "stats.ttest_rel(a=df20['TotalGHGEmissions'], b=df19['TotalGHGEmissions'], nan_policy='omit', alternative='less')"
   ]
  }
 ],
 "metadata": {
  "kernelspec": {
   "display_name": "Python 3",
   "language": "python",
   "name": "python3"
  },
  "language_info": {
   "codemirror_mode": {
    "name": "ipython",
    "version": 3
   },
   "file_extension": ".py",
   "mimetype": "text/x-python",
   "name": "python",
   "nbconvert_exporter": "python",
   "pygments_lexer": "ipython3",
   "version": "3.10.9"
  },
  "orig_nbformat": 4
 },
 "nbformat": 4,
 "nbformat_minor": 2
}

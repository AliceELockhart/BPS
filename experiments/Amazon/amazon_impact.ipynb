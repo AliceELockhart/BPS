{
 "cells": [
  {
   "cell_type": "markdown",
   "id": "8bd394c2",
   "metadata": {},
   "source": [
    "# Impact of Amazon-Occupied Buildings on Seattle's GHGE"
   ]
  },
  {
   "cell_type": "markdown",
   "id": "08623a2d",
   "metadata": {},
   "source": [
    "Todo:\n",
    "\n",
    "- List of Amazon-occupied properties\n",
    "    - Anything with Amazon in the name\n",
    "    - Anything from [this article](https://www.geekwire.com/amazon-office-buildings/)\n",
    "    - Data center at the Westin (used by Amazon)\n",
    "    - Whole Foods stores, Amazon Go stores\n",
    "\n",
    "- Add a category for office building/ata center/Whole Foods/Amazon Go\n",
    "\n",
    "- Total GHGE, compare with other categories (office buildings), other owners\n",
    "\n",
    "- Site/source GHGE\n",
    "\n",
    "- Compare electricity and gas use\n",
    "\n",
    "- Compare GHG Intensity to categories/owners\n",
    "\n",
    "- Compare Whole Foods--is it worse, better, etc.?\n",
    "\n",
    "\n",
    "If this isn't fruitful:\n",
    "\n",
    "Find a new villain: \n",
    "\n",
    "- What categories are the biggest polluters?\n",
    "- What owners are the biggest polluters (pull from landlords.csv)\n",
    "- What buildings/owners/types are secretly polluting a lot or in a strange way?"
   ]
  }
 ],
 "metadata": {
  "kernelspec": {
   "display_name": "Python 3 (ipykernel)",
   "language": "python",
   "name": "python3"
  },
  "language_info": {
   "codemirror_mode": {
    "name": "ipython",
    "version": 3
   },
   "file_extension": ".py",
   "mimetype": "text/x-python",
   "name": "python",
   "nbconvert_exporter": "python",
   "pygments_lexer": "ipython3",
   "version": "3.9.10"
  }
 },
 "nbformat": 4,
 "nbformat_minor": 5
}

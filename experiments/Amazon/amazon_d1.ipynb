{
 "cells": [
  {
   "cell_type": "code",
   "execution_count": 13,
   "metadata": {},
   "outputs": [],
   "source": [
    "import numpy as np\n",
    "import pandas as pd\n",
    "import geopandas as gpd\n",
    "import pandas_gbq"
   ]
  },
  {
   "cell_type": "code",
   "execution_count": 14,
   "metadata": {},
   "outputs": [
    {
     "name": "stdout",
     "output_type": "stream",
     "text": [
      "Downloading: 100%|\u001b[32m██████████\u001b[0m|\n"
     ]
    }
   ],
   "source": [
    "query = \"\"\"\n",
    "    SELECT *\n",
    "    FROM `GHGE_buildings_data.building-benchmark`;\n",
    "\"\"\"\n",
    "\n",
    "df = pandas_gbq.read_gbq(query, project_id='seattle-377109')"
   ]
  },
  {
   "cell_type": "code",
   "execution_count": 44,
   "metadata": {},
   "outputs": [
    {
     "data": {
      "text/plain": [
       "Index(['OSEBuildingID', 'TaxParcelIdentificationNumber', 'DataYear',\n",
       "       'BuildingType', 'BuildingName', 'Owner', 'CouncilDistrictCode',\n",
       "       'Neighborhood', 'Units', 'YearBuilt', 'Address', 'City', 'State',\n",
       "       'ZipCode', 'Latitude', 'Longitude', 'PrimaryPropertyType',\n",
       "       'ListOfAllPropertyUseTypes', 'EPAPropertyType',\n",
       "       'TotalGHGEmissions__metric_tons_', 'ENERGYSTARScore',\n",
       "       'YearsENERGYSTARCertified', 'SiteEUI_kBtu_sf_', 'SiteEUIWN_kBtu_sf_',\n",
       "       'SiteEnergyUse_kBtu_', 'SiteEnergyUseWN_kBtu_', 'SourceEUI_kBtu_sf_',\n",
       "       'SourceEUIWN_kBtu_sf_', 'GHGEmissions_MetricTonsCO2e_',\n",
       "       'GHGEmissionsIntensity', 'GHGEmissionsIntensity_kgCO2e_ft2_',\n",
       "       'NaturalGas_kBtu_', 'NaturalGas_therms_', 'Electricity_kBtu_',\n",
       "       'Electricity_kWh_', 'SteamUse_kBtu_', 'OtherFuelUse_kBtu_',\n",
       "       'PropertyGFATotal', 'PropertyGFABuilding_s_', 'PropertyGFAParking',\n",
       "       'NumberofBuildings', 'NumberofFloors', 'LargestPropertyUseType',\n",
       "       'LargestPropertyUseTypeGFA', 'SecondLargestPropertyUseType',\n",
       "       'SecondLargestPropertyUseTypeGFA', 'ThirdLargestPropertyUseType',\n",
       "       'ThirdLargestPropertyUseTypeGFA', 'Outlier', 'ComplianceIssue',\n",
       "       'ComplianceStatus', 'Comments', 'DefaultData',\n",
       "       'LegislationPropertyType'],\n",
       "      dtype='object')"
      ]
     },
     "execution_count": 44,
     "metadata": {},
     "output_type": "execute_result"
    }
   ],
   "source": [
    "df.columns"
   ]
  },
  {
   "cell_type": "code",
   "execution_count": 23,
   "metadata": {},
   "outputs": [],
   "source": [
    "df_amazon = pd.read_csv(\"amazon_non_grocery.csv\")"
   ]
  },
  {
   "cell_type": "code",
   "execution_count": 24,
   "metadata": {},
   "outputs": [
    {
     "data": {
      "text/plain": [
       "array([7, 1, 5], dtype=int64)"
      ]
     },
     "execution_count": 24,
     "metadata": {},
     "output_type": "execute_result"
    }
   ],
   "source": [
    "df_amazon['CouncilDistrictCode'].unique()"
   ]
  },
  {
   "cell_type": "code",
   "execution_count": 25,
   "metadata": {},
   "outputs": [
    {
     "data": {
      "text/html": [
       "<div>\n",
       "<style scoped>\n",
       "    .dataframe tbody tr th:only-of-type {\n",
       "        vertical-align: middle;\n",
       "    }\n",
       "\n",
       "    .dataframe tbody tr th {\n",
       "        vertical-align: top;\n",
       "    }\n",
       "\n",
       "    .dataframe thead th {\n",
       "        text-align: right;\n",
       "    }\n",
       "</style>\n",
       "<table border=\"1\" class=\"dataframe\">\n",
       "  <thead>\n",
       "    <tr style=\"text-align: right;\">\n",
       "      <th></th>\n",
       "      <th>Unnamed: 0</th>\n",
       "      <th>OSEBuildingID</th>\n",
       "      <th>TaxParcelIdentificationNumber</th>\n",
       "      <th>DataYear</th>\n",
       "      <th>BuildingType</th>\n",
       "      <th>BuildingName</th>\n",
       "      <th>Owner</th>\n",
       "      <th>Neighborhood</th>\n",
       "      <th>Units</th>\n",
       "      <th>YearBuilt</th>\n",
       "      <th>...</th>\n",
       "      <th>SecondLargestPropertyUseType</th>\n",
       "      <th>SecondLargestPropertyUseTypeGFA</th>\n",
       "      <th>ThirdLargestPropertyUseType</th>\n",
       "      <th>ThirdLargestPropertyUseTypeGFA</th>\n",
       "      <th>Outlier</th>\n",
       "      <th>ComplianceIssue</th>\n",
       "      <th>ComplianceStatus</th>\n",
       "      <th>Comments</th>\n",
       "      <th>DefaultData</th>\n",
       "      <th>LegislationPropertyType</th>\n",
       "    </tr>\n",
       "    <tr>\n",
       "      <th>CouncilDistrictCode</th>\n",
       "      <th></th>\n",
       "      <th></th>\n",
       "      <th></th>\n",
       "      <th></th>\n",
       "      <th></th>\n",
       "      <th></th>\n",
       "      <th></th>\n",
       "      <th></th>\n",
       "      <th></th>\n",
       "      <th></th>\n",
       "      <th></th>\n",
       "      <th></th>\n",
       "      <th></th>\n",
       "      <th></th>\n",
       "      <th></th>\n",
       "      <th></th>\n",
       "      <th></th>\n",
       "      <th></th>\n",
       "      <th></th>\n",
       "      <th></th>\n",
       "      <th></th>\n",
       "    </tr>\n",
       "  </thead>\n",
       "  <tbody>\n",
       "    <tr>\n",
       "      <th>1</th>\n",
       "      <td>25</td>\n",
       "      <td>25</td>\n",
       "      <td>25</td>\n",
       "      <td>25</td>\n",
       "      <td>25</td>\n",
       "      <td>25</td>\n",
       "      <td>20</td>\n",
       "      <td>25</td>\n",
       "      <td>15</td>\n",
       "      <td>25</td>\n",
       "      <td>...</td>\n",
       "      <td>24</td>\n",
       "      <td>24</td>\n",
       "      <td>14</td>\n",
       "      <td>14</td>\n",
       "      <td>0</td>\n",
       "      <td>25</td>\n",
       "      <td>25</td>\n",
       "      <td>0</td>\n",
       "      <td>0</td>\n",
       "      <td>25</td>\n",
       "    </tr>\n",
       "    <tr>\n",
       "      <th>5</th>\n",
       "      <td>1</td>\n",
       "      <td>1</td>\n",
       "      <td>1</td>\n",
       "      <td>1</td>\n",
       "      <td>1</td>\n",
       "      <td>1</td>\n",
       "      <td>1</td>\n",
       "      <td>1</td>\n",
       "      <td>1</td>\n",
       "      <td>1</td>\n",
       "      <td>...</td>\n",
       "      <td>1</td>\n",
       "      <td>1</td>\n",
       "      <td>0</td>\n",
       "      <td>0</td>\n",
       "      <td>0</td>\n",
       "      <td>1</td>\n",
       "      <td>1</td>\n",
       "      <td>0</td>\n",
       "      <td>0</td>\n",
       "      <td>1</td>\n",
       "    </tr>\n",
       "    <tr>\n",
       "      <th>7</th>\n",
       "      <td>6</td>\n",
       "      <td>6</td>\n",
       "      <td>6</td>\n",
       "      <td>6</td>\n",
       "      <td>6</td>\n",
       "      <td>6</td>\n",
       "      <td>6</td>\n",
       "      <td>6</td>\n",
       "      <td>4</td>\n",
       "      <td>6</td>\n",
       "      <td>...</td>\n",
       "      <td>5</td>\n",
       "      <td>5</td>\n",
       "      <td>2</td>\n",
       "      <td>2</td>\n",
       "      <td>0</td>\n",
       "      <td>6</td>\n",
       "      <td>6</td>\n",
       "      <td>0</td>\n",
       "      <td>0</td>\n",
       "      <td>6</td>\n",
       "    </tr>\n",
       "  </tbody>\n",
       "</table>\n",
       "<p>3 rows × 54 columns</p>\n",
       "</div>"
      ],
      "text/plain": [
       "                     Unnamed: 0  OSEBuildingID  TaxParcelIdentificationNumber  \\\n",
       "CouncilDistrictCode                                                             \n",
       "1                            25             25                             25   \n",
       "5                             1              1                              1   \n",
       "7                             6              6                              6   \n",
       "\n",
       "                     DataYear  BuildingType  BuildingName  Owner  \\\n",
       "CouncilDistrictCode                                                \n",
       "1                          25            25            25     20   \n",
       "5                           1             1             1      1   \n",
       "7                           6             6             6      6   \n",
       "\n",
       "                     Neighborhood  Units  YearBuilt  ...  \\\n",
       "CouncilDistrictCode                                  ...   \n",
       "1                              25     15         25  ...   \n",
       "5                               1      1          1  ...   \n",
       "7                               6      4          6  ...   \n",
       "\n",
       "                     SecondLargestPropertyUseType  \\\n",
       "CouncilDistrictCode                                 \n",
       "1                                              24   \n",
       "5                                               1   \n",
       "7                                               5   \n",
       "\n",
       "                     SecondLargestPropertyUseTypeGFA  \\\n",
       "CouncilDistrictCode                                    \n",
       "1                                                 24   \n",
       "5                                                  1   \n",
       "7                                                  5   \n",
       "\n",
       "                     ThirdLargestPropertyUseType  \\\n",
       "CouncilDistrictCode                                \n",
       "1                                             14   \n",
       "5                                              0   \n",
       "7                                              2   \n",
       "\n",
       "                     ThirdLargestPropertyUseTypeGFA  Outlier  ComplianceIssue  \\\n",
       "CouncilDistrictCode                                                             \n",
       "1                                                14        0               25   \n",
       "5                                                 0        0                1   \n",
       "7                                                 2        0                6   \n",
       "\n",
       "                     ComplianceStatus  Comments  DefaultData  \\\n",
       "CouncilDistrictCode                                            \n",
       "1                                  25         0            0   \n",
       "5                                   1         0            0   \n",
       "7                                   6         0            0   \n",
       "\n",
       "                     LegislationPropertyType  \n",
       "CouncilDistrictCode                           \n",
       "1                                         25  \n",
       "5                                          1  \n",
       "7                                          6  \n",
       "\n",
       "[3 rows x 54 columns]"
      ]
     },
     "execution_count": 25,
     "metadata": {},
     "output_type": "execute_result"
    }
   ],
   "source": [
    "df_amazon.groupby('CouncilDistrictCode').count()"
   ]
  },
  {
   "cell_type": "code",
   "execution_count": 27,
   "metadata": {},
   "outputs": [],
   "source": [
    "df1 = df[df['CouncilDistrictCode']==1]\n",
    "df_amazon1 = df_amazon[df_amazon['CouncilDistrictCode']==1]"
   ]
  },
  {
   "cell_type": "code",
   "execution_count": 31,
   "metadata": {},
   "outputs": [],
   "source": [
    "df1_no_amazon = df1[~(df1['BuildingName'].isin(df_amazon1['BuildingName']))]\n",
    "len(df1_no_amazon) + len(df_amazon1) == len(df1) # Sanity check"
   ]
  },
  {
   "cell_type": "code",
   "execution_count": 39,
   "metadata": {},
   "outputs": [
    {
     "name": "stdout",
     "output_type": "stream",
     "text": [
      "Amazon's footprint in d1 2.0876411889992115\n",
      "Amazon's footprint city-wide 1.591967533845298\n",
      "D1 footprint vs city-wide 68.25858433543439\n"
     ]
    }
   ],
   "source": [
    "amazon1_footprint = df_amazon1['TotalGHGEmissions__metric_tons_'].sum()\n",
    "df1_footprint = df1['TotalGHGEmissions__metric_tons_'].sum()\n",
    "print(\"Amazon's footprint in d1\", amazon1_footprint / df1_footprint * 100)\n",
    "print(\"Amazon's footprint city-wide\", df_amazon['TotalGHGEmissions__metric_tons_'].sum()/df['TotalGHGEmissions__metric_tons_'].sum()*100)\n",
    "print(\"D1 footprint vs city-wide\", df1_footprint / df['TotalGHGEmissions__metric_tons_'].sum()*100)\n",
    "\n"
   ]
  },
  {
   "cell_type": "code",
   "execution_count": 49,
   "metadata": {},
   "outputs": [
    {
     "name": "stdout",
     "output_type": "stream",
     "text": [
      "65.85819826574105\n"
     ]
    }
   ],
   "source": [
    "df1_sqft = df1['PropertyGFATotal'].sum()\n",
    "df_sqft = df['PropertyGFATotal'].sum()\n",
    "print(df1_sqft / df_sqft * 100)"
   ]
  },
  {
   "cell_type": "code",
   "execution_count": null,
   "metadata": {},
   "outputs": [],
   "source": []
  }
 ],
 "metadata": {
  "kernelspec": {
   "display_name": "Python 3",
   "language": "python",
   "name": "python3"
  },
  "language_info": {
   "codemirror_mode": {
    "name": "ipython",
    "version": 3
   },
   "file_extension": ".py",
   "mimetype": "text/x-python",
   "name": "python",
   "nbconvert_exporter": "python",
   "pygments_lexer": "ipython3",
   "version": "3.10.9"
  },
  "orig_nbformat": 4,
  "vscode": {
   "interpreter": {
    "hash": "53eb8247ac8977839b92ebfbaa3b2410dbaab4ec15fe359a3a0adf2e972f338b"
   }
  }
 },
 "nbformat": 4,
 "nbformat_minor": 2
}

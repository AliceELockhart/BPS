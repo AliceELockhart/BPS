{
 "cells": [
  {
   "cell_type": "code",
   "execution_count": 1,
   "id": "20133a82",
   "metadata": {},
   "outputs": [],
   "source": [
    "import pandas_gbq\n",
    "import pandas"
   ]
  },
  {
   "cell_type": "code",
   "execution_count": null,
   "id": "8b421523",
   "metadata": {},
   "outputs": [],
   "source": [
    "# which columns need to be cast to a different dataset?"
   ]
  },
  {
   "cell_type": "code",
   "execution_count": null,
   "id": "bb98e8eb",
   "metadata": {},
   "outputs": [],
   "source": [
    "# which values need to be normalized? (City/State columns have some confusion)"
   ]
  },
  {
   "cell_type": "code",
   "execution_count": null,
   "id": "03ad2007",
   "metadata": {},
   "outputs": [],
   "source": [
    "# normalize units"
   ]
  }
 ],
 "metadata": {
  "kernelspec": {
   "display_name": "Python 3 (ipykernel)",
   "language": "python",
   "name": "python3"
  },
  "language_info": {
   "codemirror_mode": {
    "name": "ipython",
    "version": 3
   },
   "file_extension": ".py",
   "mimetype": "text/x-python",
   "name": "python",
   "nbconvert_exporter": "python",
   "pygments_lexer": "ipython3",
   "version": "3.9.10"
  }
 },
 "nbformat": 4,
 "nbformat_minor": 5
}
